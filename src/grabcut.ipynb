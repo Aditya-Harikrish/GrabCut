{
 "cells": [
  {
   "cell_type": "code",
   "execution_count": 2,
   "id": "794982c0",
   "metadata": {},
   "outputs": [],
   "source": [
    "import numpy as np\n",
    "import maxflow\n",
    "from sklearn.cluster import KMeans\n",
    "from sklearn.mixture import GaussianMixture\n",
    "import matplotlib.pyplot as plt\n",
    "import cv2"
   ]
  },
  {
   "cell_type": "markdown",
   "id": "40e4f026",
   "metadata": {},
   "source": [
    "#### Calculate $\\beta$\n",
    " - Beta is the smoothness term for the boundary between bg and fg\n",
    " - When beta is 1, the boundary is perfectly smooth\n",
    " - beta > 0 is preferred to relax constraints on hard boundary b/w pixels\n",
    " \n",
    " $$\n",
    "     \\beta = \\frac{1}{(2*\\text{E}(\\sqrt{||pixel_{i} - pixel{j}||})}\n",
    " $$\n",
    " \n",
    " Here, $\\text{E}$ is the average over all pairs of neighbouring pixels in the image. which are $4wh -3h -3w +2$ in number."
   ]
  },
  {
   "cell_type": "code",
   "execution_count": 3,
   "id": "04c5259f",
   "metadata": {},
   "outputs": [],
   "source": [
    "class GrabCut:\n",
    "    def __init__(self, img, gamma, n_components, max_iter, bgRect, mask, n_iters):\n",
    "        #  x_start, x_end, y_start, y_end is what we should get after unpacking bgRect\n",
    "        self.img = img.astype(np.float32)\n",
    "        self.height, self.width =  list(img.shape)[:2]\n",
    "        self.k = n_components\n",
    "        self.gamma = gamma\n",
    "        self.n_iters = n_iters\n",
    "        self.bgRect = bgRect\n",
    "        self.mask = mask\n",
    "        self.max_iters = max_iter\n",
    "\n",
    "        # define flags\n",
    "        self.BG = 0\t# confirmed bg\n",
    "        self.FG = 1\t# confirmed fg\n",
    "        self.PR_BG = 2\t# probable bg\n",
    "        self.PR_FG = 3\t# probable fg\n",
    "        \n",
    "        # params\n",
    "        self.beta = 0\n",
    "        \n",
    "        self.set_beta() # sets beta\n",
    "        self.init_graph() # initializes the graph    \n",
    "        self.set_graph_weights() # sets the weights of the graph\n",
    "        self.init_trimap(mask) # gets the trimap\n",
    "        self.add_terminal_edges() # adds the terminal edges\n",
    "\n",
    "\n",
    "    def set_beta(self):\n",
    "        beta = 0\n",
    "        # calculates average over an image sample for (z_m-z_n)^2 for \n",
    "        self._left_diff = self.img[:, 1:] - self.img[:, :-1] # Left-difference\n",
    "        self._upleft_diff = self.img[1:, 1:] - self.img[:-1, :-1] # Up-Left difference\n",
    "        self._up_diff = self.img[1:, :] - self.img[:-1, :] # Up-difference\n",
    "        self._upright_diff = self.img[1:, :-1] - self.img[:-1, 1:] # Up-Right difference\n",
    "        # beta is as described in the paper\n",
    "        beta = (self._left_diff*self._left_diff).sum() + (self._upleft_diff*self._upleft_diff).sum() \\\n",
    "            + (self._up_diff*self._up_diff).sum() + (self._upright_diff*self._upright_diff).sum() # According to the formula\n",
    "        self.beta = 1/(2*beta/(4*self.width*self.height - 3*self.width - 3*self.height + 2))\n",
    "        # 4*self.width*self.height - 3*self.width - 3*self.height + 2 is the number of pairs of neighbouring pixels in the image\n",
    "\n",
    "    def init_graph(self):\n",
    "        self.graph = maxflow.Graph[float]()\n",
    "        self.pixels = self.graph.add_grid_nodes((self.height, self.width))\n",
    "        \n",
    "\n",
    "    def set_graph_weights(self):\n",
    "        for j in range(self.height):\n",
    "            for i in range(self.width):\n",
    "                curr_pixel = self.pixels[j, i] # src\n",
    "\n",
    "    \n",
    "    "
   ]
  }
 ],
 "metadata": {
  "kernelspec": {
   "display_name": "Python 3.10.8 64-bit",
   "language": "python",
   "name": "python3"
  },
  "language_info": {
   "codemirror_mode": {
    "name": "ipython",
    "version": 3
   },
   "file_extension": ".py",
   "mimetype": "text/x-python",
   "name": "python",
   "nbconvert_exporter": "python",
   "pygments_lexer": "ipython3",
   "version": "3.10.8"
  },
  "vscode": {
   "interpreter": {
    "hash": "e7370f93d1d0cde622a1f8e1c04877d8463912d04d973331ad4851f04de6915a"
   }
  }
 },
 "nbformat": 4,
 "nbformat_minor": 5
}
