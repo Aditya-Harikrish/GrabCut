{
 "cells": [
  {
   "cell_type": "code",

   "execution_count": 24,
   "metadata": {},
   "outputs": [],
   "source": [
    "import cv2 as cv\n",
    "import numpy as np\n",
    "import matplotlib.pyplot as plt\n",
    "import os\n",
    "from copy import copy\n",
    "from data_and_events import data_and_events"
   ]
  },
  {
   "cell_type": "code",
   "metadata": {},
   "outputs": [],
   "source": [
    "class main(data_and_events):\n",
    "    def __init__(self, image_name) -> None:\n",
    "        super().__init__(image_name)\n",
    "\n",
    "    def run(image_name: str):\n",
    "        main_obj = data_and_events(image_name)\n",
    "        cv.namedWindow(\"image\")\n",
    "        cv.setMouseCallback(\"image\", main_obj.mouse_callback)\n",
    "        while True:\n",
    "            img = main_obj.get_image()\n",
    "            cv.imshow(\"image\", img)\n",
    "            if main_obj.keyboard_handler() == -1:\n",
    "                break\n",
    "        cv.destroyAllWindows()"
   ]
  },
  {
   "cell_type": "code",
   "metadata": {},
   "outputs": [
    {
     "name": "stdout",
     "output_type": "stream",
     "text": [
      "rectangle drawn\n",
      "top left:  346\n",
      "top right:  51\n",
      "bottom left:  908\n",
      "bottom right:  790\n"
     ]
    }
   ],
   "source": [
    "main_obj = main(\"lantern.jpg\")\n",
    "main.run(\"lantern.jpg\")"
   ]
  },
  {
   "cell_type": "code",
   "execution_count": null,
   "metadata": {},
   "outputs": [],
   "source": []
  }
 ],
 "metadata": {
  "kernelspec": {
   "display_name": "Python 3.10.8 64-bit",
   "language": "python",
   "name": "python3"
  },
  "language_info": {
   "codemirror_mode": {
    "name": "ipython",
    "version": 3
   },
   "file_extension": ".py",
   "mimetype": "text/x-python",
   "name": "python",
   "nbconvert_exporter": "python",
   "pygments_lexer": "ipython3",
   "version": "3.10.8"
  },
  "orig_nbformat": 4,
  "vscode": {
   "interpreter": {
    "hash": "e7370f93d1d0cde622a1f8e1c04877d8463912d04d973331ad4851f04de6915a"
   }
  }
 },
 "nbformat": 4,
 "nbformat_minor": 2
}
