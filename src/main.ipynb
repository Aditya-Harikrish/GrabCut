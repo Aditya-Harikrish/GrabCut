{
 "cells": [
  {
   "cell_type": "code",
   "execution_count": 24,
   "metadata": {},
   "outputs": [],
   "source": [
    "import cv2 as cv\n",
    "import numpy as np\n",
    "import matplotlib.pyplot as plt\n",
    "import os\n",
    "from copy import copy\n",
    "from data_and_events import data_and_events"
   ]
  },
  {
   "cell_type": "code",
   "execution_count": 25,
   "metadata": {},
   "outputs": [],
   "source": [
    "class main(data_and_events):\n",
    "    def __init__(self, image_name) -> None:\n",
    "        super().__init__(image_name)\n",
    "\n",
    "    def run(image_name: str):\n",
    "        main_obj = data_and_events(image_name)\n",
    "        cv.namedWindow(\"image\")\n",
    "        cv.setMouseCallback(\"image\", main_obj.mouse_callback)\n",
    "        while True:\n",
    "            img = main_obj.get_image()\n",
    "            cv.imshow(\"image\", img)\n",
    "            if main_obj.keyboard_handler() == -1:\n",
    "                break\n",
    "        cv.destroyAllWindows()"
   ]
  },
  {
   "cell_type": "code",
   "execution_count": 26,
   "metadata": {},
   "outputs": [],
   "source": [
    "main_obj = main(\"lantern.jpg\")\n",
    "main.run(\"lantern.jpg\")"
   ]
  }
 ],
 "metadata": {
  "kernelspec": {
   "display_name": "Python 3.9.12 ('base')",
   "language": "python",
   "name": "python3"
  },
  "language_info": {
   "codemirror_mode": {
    "name": "ipython",
    "version": 3
   },
   "file_extension": ".py",
   "mimetype": "text/x-python",
   "name": "python",
   "nbconvert_exporter": "python",
   "pygments_lexer": "ipython3",
   "version": "3.9.12"
  },
  "orig_nbformat": 4,
  "vscode": {
   "interpreter": {
    "hash": "19ef3cc17b6622d557e8b52a99a5f58b6921f2f0c015267a84da792098f3e244"
   }
  }
 },
 "nbformat": 4,
 "nbformat_minor": 2
}
