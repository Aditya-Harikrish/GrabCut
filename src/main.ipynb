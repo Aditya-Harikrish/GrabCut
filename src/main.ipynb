{
 "cells": [
  {
   "cell_type": "code",
   "execution_count": 9,
   "metadata": {},
   "outputs": [],
   "source": [
    "# import numpy as np\n",
    "# import cv2 as cv\n",
    "# import os\n",
    "\n",
    "# drawing = False # true if mouse is pressed\n",
    "# ix,iy = -1,-1\n",
    "\n",
    "# # mouse callback function\n",
    "# def draw_rectanlge(event, x, y, flags, param):\n",
    "#     \"\"\" Draw rectangle on mouse click and drag \"\"\"\n",
    "#     global ix,iy,drawing,mode\n",
    "#     # if the left mouse button was clicked, record the starting and set the drawing flag to True\n",
    "#     if event == cv.EVENT_LBUTTONDOWN:\n",
    "#         drawing = True\n",
    "#         ix,iy = x,y\n",
    "#     # mouse is being moved, draw rectangle\n",
    "#     elif event == cv.EVENT_MOUSEMOVE:\n",
    "#         if drawing == True:\n",
    "#             cv.rectangle(img, (ix, iy), (x, y), (255, 255, 0), 2)\n",
    "#     # if the left mouse button was released, set the drawing flag to False\n",
    "#     elif event == cv.EVENT_LBUTTONUP:\n",
    "#         drawing = False\n",
    "\n",
    "# # create a black image (height=360px, width=512px), a window and bind the function to window\n",
    "# img = cv.imread(os.path.join(os.getcwd(), '..','img', 'lantern.jpg'))\n",
    "# cv.namedWindow('image')\n",
    "# cv.setMouseCallback('image',draw_rectanlge)\n",
    "\n",
    "# while(1):\n",
    "#     cv.imshow('image',img)\n",
    "#     if cv.waitKey(20) & 0xFF == 27:\n",
    "#         break\n",
    "\n",
    "# cv.destroyAllWindows()"
   ]
  },
  {
   "cell_type": "code",
   "execution_count": 10,
   "metadata": {},
   "outputs": [],
   "source": [
    "import cv2 as cv\n",
    "import numpy as np\n",
    "import matplotlib.pyplot as plt\n",
    "import os\n",
    "from copy import copy"
   ]
  },
  {
   "cell_type": "code",
   "execution_count": 11,
   "metadata": {},
   "outputs": [],
   "source": [
    "class data_and_events:\n",
    "    def __init__(self, path) -> None:\n",
    "        self.start_point = (-1, -1)\n",
    "        img = cv.imread(path)\n",
    "        self.drawing = False\n",
    "        self.img = copy(img)\n",
    "        self.img_copy = copy(img)\n",
    "\n",
    "    def mouse_callback(self, event, x, y, flags, param):\n",
    "        if event == cv.EVENT_LBUTTONDOWN:\n",
    "            self.drawing = True\n",
    "            self.start_point = (x, y)\n",
    "        elif event == cv.EVENT_MOUSEMOVE:\n",
    "            if self.drawing:\n",
    "                self.img = copy(self.img_copy)\n",
    "                cv.rectangle(self.img, self.start_point, (x, y), (0, 255, 0), 2)\n",
    "        elif event == cv.EVENT_LBUTTONUP:\n",
    "            self.drawing = False\n",
    "            cv.rectangle(self.img, self.start_point, (x, y), (0, 255, 0), 2)\n",
    "\n",
    "    def get_image(self):\n",
    "        return self.img\n",
    "\n",
    "    def keyboard_handler(self):\n",
    "        key_press = cv.waitKey(1) & 0xFF\n",
    "        if key_press == 27:  # esc key\n",
    "            return -1\n",
    "        elif key_press == ord(\"r\"):  # reset image\n",
    "            self.img = copy(self.img_copy)\n",
    "            self.drawing = False\n",
    "\n",
    "        if cv.waitKey(10) & 0xFF == 27:\n",
    "            return -1\n",
    "\n",
    "        return 0"
   ]
  },
  {
   "cell_type": "code",
   "execution_count": 12,
   "metadata": {},
   "outputs": [],
   "source": [
    "def main(path: str):\n",
    "    main_obj = data_and_events(path)\n",
    "    cv.namedWindow(\"image\")\n",
    "    cv.setMouseCallback(\"image\", main_obj.mouse_callback)\n",
    "    while True:\n",
    "        img = main_obj.get_image()\n",
    "        cv.imshow(\"image\", img)\n",
    "        if main_obj.keyboard_handler() == -1:\n",
    "            break\n",
    "    cv.destroyAllWindows()"
   ]
  },
  {
   "cell_type": "code",
   "execution_count": null,
   "metadata": {},
   "outputs": [],
   "source": [
    "path = os.path.join(os.getcwd(), \"..\", \"img\", \"lantern.jpg\")\n",
    "main(path)"
   ]
  }
 ],
 "metadata": {
  "kernelspec": {
   "display_name": "Python 3.9.12 ('base')",
   "language": "python",
   "name": "python3"
  },
  "language_info": {
   "codemirror_mode": {
    "name": "ipython",
    "version": 3
   },
   "file_extension": ".py",
   "mimetype": "text/x-python",
   "name": "python",
   "nbconvert_exporter": "python",
   "pygments_lexer": "ipython3",
   "version": "3.9.12"
  },
  "orig_nbformat": 4,
  "vscode": {
   "interpreter": {
    "hash": "19ef3cc17b6622d557e8b52a99a5f58b6921f2f0c015267a84da792098f3e244"
   }
  }
 },
 "nbformat": 4,
 "nbformat_minor": 2
}
