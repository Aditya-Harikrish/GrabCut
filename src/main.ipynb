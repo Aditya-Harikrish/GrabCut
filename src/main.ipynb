{
 "cells": [
  {
   "cell_type": "code",
   "execution_count": 7,
   "metadata": {},
   "outputs": [],
   "source": [
    "import cv2\n",
    "import numpy as np\n",
    "import matplotlib.pyplot as plt\n",
    "import os\n",
    "from copy import copy\n",
    "from data_and_events import data_and_events\n"
   ]
  },
  {
   "cell_type": "code",
   "execution_count": 8,
   "metadata": {},
   "outputs": [],
   "source": [
    "class Interactor(data_and_events):\n",
    "    def __init__(self, image_name) -> None:\n",
    "        super().__init__(image_name)\n",
    "\n",
    "    def get_bbox(self, image_name: str):\n",
    "        obj = data_and_events(image_name)\n",
    "        cv2.namedWindow(\"draw a rectangle\")\n",
    "        cv2.setMouseCallback(\"draw a rectangle\", obj.mouse_callback)\n",
    "        while True:\n",
    "            img = obj.get_image()\n",
    "            cv2.imshow(\"draw a rectangle\", img)\n",
    "            if obj.keyboard_handler() == -1:\n",
    "                break\n",
    "        cv2.destroyAllWindows()\n",
    "        return obj.getbbox()\n",
    "\n",
    "    def crayon(self, image_name: str):\n",
    "        obj2=data_and_events(image_name)\n",
    "        cv2.namedWindow(\"Right click to remove and left click to add\")\n",
    "        cv2.setMouseCallback(\n",
    "            \"Right click to remove and left click to add\", obj2.line_mouse_callback)\n",
    "        while True:\n",
    "            img = obj2.get_image()\n",
    "            cv2.imshow(\"Right click to remove and left click to add\", img)\n",
    "            if obj2.keyboard_handler() == -1:\n",
    "                break\n",
    "        cv2.destroyAllWindows()\n",
    "        return obj2.mask\n",
    "\n"
   ]
  },
  {
   "cell_type": "code",
   "execution_count": 9,
   "metadata": {},
   "outputs": [],
   "source": [
    "image_name=\"lantern.jpg\"\n",
    "interaction = Interactor(image_name)\n",
    "start_point, end_point= interaction.get_bbox(image_name)\n",
    "# FIRST GRABCUT PASS\n",
    "\n",
    "#start loop\n",
    "mask = interaction.crayon(image_name)\n",
    "#refine acc to mask\n",
    "#ask user if they wanna continue\n",
    "#exit loop/continue loop\n",
    "\n",
    "\n"
   ]
  },
  {
   "cell_type": "code",
   "execution_count": 10,
   "metadata": {},
   "outputs": [
    {
     "name": "stdout",
     "output_type": "stream",
     "text": [
      "(272, 48) (863, 930)\n",
      "[[10 10 10 ... 10 10 10]\n",
      " [10 10 10 ... 10 10 10]\n",
      " [10 10 10 ... 10 10 10]\n",
      " ...\n",
      " [10 10 10 ... 10 10 10]\n",
      " [10 10 10 ... 10 10 10]\n",
      " [10 10 10 ... 10 10 10]]\n"
     ]
    }
   ],
   "source": [
    "print(start_point, end_point)\n",
    "print(mask)"
   ]
  }
 ],
 "metadata": {
  "kernelspec": {
   "display_name": "Python 3.10.4 64-bit",
   "language": "python",
   "name": "python3"
  },
  "language_info": {
   "codemirror_mode": {
    "name": "ipython",
    "version": 3
   },
   "file_extension": ".py",
   "mimetype": "text/x-python",
   "name": "python",
   "nbconvert_exporter": "python",
   "pygments_lexer": "ipython3",
   "version": "3.10.4"
  },
  "orig_nbformat": 4,
  "vscode": {
   "interpreter": {
    "hash": "e7370f93d1d0cde622a1f8e1c04877d8463912d04d973331ad4851f04de6915a"
   }
  }
 },
 "nbformat": 4,
 "nbformat_minor": 2
}
