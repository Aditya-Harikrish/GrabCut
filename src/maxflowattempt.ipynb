{
 "cells": [
  {
   "cell_type": "code",
   "execution_count": 5,
   "metadata": {},
   "outputs": [
    {
     "name": "stdout",
     "output_type": "stream",
     "text": [
      "<maxflow._maxflow.GraphFloat object at 0x7f8f65c1daf0>\n"
     ]
    }
   ],
   "source": [
    "import maxflow\n",
    "import numpy as np\n",
    "g = maxflow.GraphFloat()\n",
    "nodeids = g.add_grid_nodes((3, 3))\n",
    "structure = np.array([[0, 0, 0],\n",
    "                      [0, 0, 1],\n",
    "                      [0, 1, 0]])\n",
    "weights = np.array([[1, 2, 3],\n",
    "                    [4, 5, 6],\n",
    "                    [7, 8, 9]])\n",
    "g.add_grid_edges(nodeids, weights=weights, structure=structure,\n",
    "                 symmetric=False)\n",
    "\n",
    "print(g)\n"
   ]
  }
 ],
 "metadata": {
  "kernelspec": {
   "display_name": "Python 3.10.4 64-bit",
   "language": "python",
   "name": "python3"
  },
  "language_info": {
   "codemirror_mode": {
    "name": "ipython",
    "version": 3
   },
   "file_extension": ".py",
   "mimetype": "text/x-python",
   "name": "python",
   "nbconvert_exporter": "python",
   "pygments_lexer": "ipython3",
   "version": "3.10.4"
  },
  "orig_nbformat": 4,
  "vscode": {
   "interpreter": {
    "hash": "e7370f93d1d0cde622a1f8e1c04877d8463912d04d973331ad4851f04de6915a"
   }
  }
 },
 "nbformat": 4,
 "nbformat_minor": 2
}
